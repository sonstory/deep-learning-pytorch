{
 "cells": [
  {
   "cell_type": "markdown",
   "id": "e5b0707d",
   "metadata": {},
   "source": [
    "# 2.1 파이토치 개요\n",
    "- 파이토치란, GPU에서 텐서 조작 및 동적 신경망 구축이 가능한 프레임워크\n",
    "- GPU(Graphics Processing Unit) : 연산 속도를 빠르게 하는 역할\n",
    "    - 딥러닝에서는 기울기를 계산할 때 미분을 쓰는데, GPU를 사용하면 빠른 계산이 가능\n",
    "    - 내부적으로 CUDA, cuDNN이라는 API를 통해 GPU 연산을 사용\n",
    "    - 병렬 연산에서 GPU의 속도는 CPU의 속도보다 훨씬 빠르므로 딥러닝 학습에서 GPU 사용은 필수\n",
    "- 텐서(Tensor)\n",
    "    - 파이토치의 데이터 형태\n",
    "    - 단일 데이터 형식으로 된 자료들의 다차원 행렬\n",
    "    - 간단한 명령어(변수 뒤에 .cuda()를 추가)를 사용해서 GPU로 연산을 수행\n",
    "    - 벡터는 1차원 축(행, axis=0), 행렬은 2차원 축(열, axis=1), 텐서는 3차원 축(채널, axis=12)\n",
    "- 동적 신경망\n",
    "    - 훈련을 반복할 때마다 네트워크 변경이 가능한 신경망\n",
    "        - ex> 학습 중에 은닉층을 추가하거나, 제거하는 등 모델의 네트워크 조작이 가능\n",
    "    -  연산 그래프를 정의하는 것과 동시에 값도 초기화되는 'Define by Run' 방식을 사용 -> 코드를 이해하기 쉬움"
   ]
  },
  {
   "cell_type": "markdown",
   "id": "e150494d",
   "metadata": {},
   "source": [
    "# 2.2 파이토치 기본 문법\n",
    "## 2.2.1 텐서 다루기 "
   ]
  },
  {
   "cell_type": "code",
   "execution_count": 1,
   "id": "746cd520",
   "metadata": {},
   "outputs": [
    {
     "name": "stdout",
     "output_type": "stream",
     "text": [
      "tensor([[1, 2],\n",
      "        [3, 4]])\n",
      "------------------------\n",
      "tensor([[1, 2],\n",
      "        [3, 4]], device='cuda:0')\n",
      "------------------------\n",
      "tensor([[1., 2.],\n",
      "        [3., 4.]], dtype=torch.float64)\n"
     ]
    }
   ],
   "source": [
    "import torch\n",
    "\n",
    "# 텐서 생성 및 변환\n",
    "print(torch.tensor([[1,2],[3,4]]))\n",
    "print('------------------------')\n",
    "print(torch.tensor([[1,2],[3,4]], device=\"cuda:0\"))\n",
    "print('------------------------')\n",
    "print(torch.tensor([[1,2],[3,4]], dtype=torch.float64))"
   ]
  },
  {
   "cell_type": "markdown",
   "id": "0f5803b7",
   "metadata": {},
   "source": [
    "- 텐서는 파이토치의 가장 기본이 되는 데이터 구조로, 넘파이의 ndarray와 비슷하며 GPU에서의 연산도 가능"
   ]
  },
  {
   "cell_type": "code",
   "execution_count": 2,
   "id": "5f227d61",
   "metadata": {},
   "outputs": [
    {
     "name": "stdout",
     "output_type": "stream",
     "text": [
      "[[1 2]\n",
      " [3 4]]\n"
     ]
    }
   ],
   "source": [
    "# 텐서를 ndarray로 변환\n",
    "temp = torch.tensor([[1,2], [3,4]])\n",
    "print(temp.numpy())"
   ]
  },
  {
   "cell_type": "code",
   "execution_count": 3,
   "id": "a9792f5b",
   "metadata": {},
   "outputs": [
    {
     "name": "stdout",
     "output_type": "stream",
     "text": [
      "[[1 2]\n",
      " [3 4]]\n"
     ]
    }
   ],
   "source": [
    "temp = torch.tensor([[1,2], [3,4]])\n",
    "print(temp.to(\"cpu\").numpy()) # 텐서를 CPU의 텐서로 변환한 후 ndarray로 변환"
   ]
  },
  {
   "cell_type": "code",
   "execution_count": 4,
   "id": "b714888b",
   "metadata": {},
   "outputs": [
    {
     "name": "stdout",
     "output_type": "stream",
     "text": [
      "tensor(1.) tensor(2.) tensor(7.)\n",
      "------------------------\n",
      "tensor([3., 4., 5.]) tensor([5., 6.])\n"
     ]
    }
   ],
   "source": [
    "# 텐서의 인덱스 조작\n",
    "temp = torch.FloatTensor([1, 2, 3, 4, 5, 6, 7])\n",
    "print(temp[0], temp[1], temp[-1])\n",
    "print('------------------------')\n",
    "print(temp[2:5], temp[4:-1])"
   ]
  },
  {
   "cell_type": "markdown",
   "id": "f1ca4e7f",
   "metadata": {},
   "source": [
    "- 텐서는 넘파이의 ndarray를 조작하는 것과 유사하게 동작하기 때문에 배열처럼 인덱스를 바로 지정하거나 슬라이스 등을 사용 가능\n",
    "- 텐서의 자료형\n",
    "    - torch.FloatTensor : 32비트의 부동 소수점\n",
    "    - torch.DoubleTensor : 64비트의 부동 소수점\n",
    "    - torch.LongTensor : 64비트의 부호가 있는 정수"
   ]
  },
  {
   "cell_type": "code",
   "execution_count": 5,
   "id": "5edad502",
   "metadata": {},
   "outputs": [
    {
     "name": "stdout",
     "output_type": "stream",
     "text": [
      "tensor([2, 2, 3])\n"
     ]
    }
   ],
   "source": [
    "# 텐서의 연산\n",
    "v = torch.tensor([1, 2, 3])\n",
    "w = torch.tensor([3, 4, 6])\n",
    "print(w - v)"
   ]
  },
  {
   "cell_type": "markdown",
   "id": "28d5960f",
   "metadata": {},
   "source": [
    "- 텐서 간 타입이 다르면 연산이 불가능"
   ]
  },
  {
   "cell_type": "code",
   "execution_count": 6,
   "id": "2108506a",
   "metadata": {},
   "outputs": [
    {
     "name": "stdout",
     "output_type": "stream",
     "text": [
      "torch.Size([2, 2])\n",
      "------------------------\n",
      "tensor([[1],\n",
      "        [2],\n",
      "        [3],\n",
      "        [4]])\n",
      "------------------------\n",
      "tensor([1, 2, 3, 4])\n",
      "------------------------\n",
      "tensor([[1, 2, 3, 4]])\n",
      "------------------------\n",
      "tensor([[1],\n",
      "        [2],\n",
      "        [3],\n",
      "        [4]])\n"
     ]
    }
   ],
   "source": [
    "# 텐서의 차원 변경\n",
    "temp = torch.tensor([\n",
    "    [1, 2], [3, 4]\n",
    "])\n",
    "\n",
    "print(temp.shape)\n",
    "print('------------------------')\n",
    "print(temp.view(4,1))\n",
    "print('------------------------')\n",
    "print(temp.view(-1))\n",
    "print('------------------------')\n",
    "print(temp.view(1, -1))\n",
    "print('------------------------')\n",
    "print(temp.view(-1, 1))"
   ]
  },
  {
   "cell_type": "markdown",
   "id": "2af86667",
   "metadata": {},
   "source": [
    "## 2.2.2 데이터 준비"
   ]
  },
  {
   "cell_type": "markdown",
   "id": "4e9c5a85",
   "metadata": {},
   "source": [
    "### 커스텀 데이터셋을 만들어 사용"
   ]
  },
  {
   "cell_type": "code",
   "execution_count": 7,
   "id": "10ab4813",
   "metadata": {},
   "outputs": [],
   "source": [
    "import pandas as pd\n",
    "import torch\n",
    "from torch.utils.data import Dataset\n",
    "from torch.utils.data import DataLoader\n",
    "\n",
    "class CustomDataset(Dataset):\n",
    "    def __init__(self, csv_file):\n",
    "        self.label = pd.read_csv(csv_file)\n",
    "    \n",
    "    # 전체 데이터셋의 크기 반환\n",
    "    def __len__(self):\n",
    "        return len(self.label)\n",
    "    \n",
    "    # 전체 x와 y번째 데이터 중에 해당 idx번째의 데이터를 가져옴\n",
    "    def __getitem__(self, idx):\n",
    "        sample = torch.tensor(self.label.iloc[idx,0:3]).int()\n",
    "        label = torch.tensor(self.label.iloc[idx,3]).int()\n",
    "        return sample, label"
   ]
  },
  {
   "cell_type": "markdown",
   "id": "206416bf",
   "metadata": {},
   "source": [
    "- 대량의 데이터를 이용하여 모델을 학습시킬 때 데이터를 한 번에 메모리에 불러와서 훈련시키면 시간과 비용 측면에서 비효율\n",
    "- 데이터를 한 번에 다 부르지 않고 조금씩 나누어 불러서 사용하는 방식이 `커스텀 데이터셋(custom dataset)`"
   ]
  },
  {
   "cell_type": "code",
   "execution_count": 8,
   "id": "42a79e35",
   "metadata": {},
   "outputs": [],
   "source": [
    "tensor_dataset = CustomDataset('./car_evaluation.csv')\n",
    "dataset = DataLoader(tensor_dataset, batch_size=4, shuffle=True)"
   ]
  },
  {
   "cell_type": "markdown",
   "id": "c525c439",
   "metadata": {},
   "source": [
    "#### 데이터로더(DataLoader)\n",
    "- 학습에 사용될 데이터 전체를 보관했다가 모델 학습을 할 때 배치 크기만큼 데이터를 꺼내서 사용\n",
    "- 데이터를 미리 잘라 놓는 것이 아니라 내부적으로 반복자(iterator)에 포함된 인덱스(index)를 이용하여 배치 크기만큼 데이터를 반환"
   ]
  },
  {
   "cell_type": "markdown",
   "id": "0e91b9af",
   "metadata": {},
   "source": [
    "### 파이토치에서 제공하는 데이터셋 사용\n",
    "torchvision은 파이토치에서 제공하는 데이터셋들이 모여 있는 패키지(MNIST, ImageNet 등)"
   ]
  },
  {
   "cell_type": "code",
   "execution_count": null,
   "id": "879d3c89",
   "metadata": {},
   "outputs": [],
   "source": [
    "import torchvision.transforms as transforms\n",
    "\n",
    "mnist_transform = transforms.Compose([\n",
    "    transforms.ToTensor(),\n",
    "    transforms.Normalize((0.5), (1.0,)) # 평균이 0.5, 표준편차가 1.0이 되도록 데이터의 분포(normalize)를 조정\n",
    "])"
   ]
  },
  {
   "cell_type": "code",
   "execution_count": null,
   "id": "f29af899",
   "metadata": {},
   "outputs": [],
   "source": [
    "from torchvision.datasets import MNIST\n",
    "import requests\n",
    "\n",
    "download_root = '../MNIST_DATASET' # 내려받을 경로\n",
    "train_dataset = MNIST(download_root, transform=mnist_transform, train=True, download=True) # 훈련 데이터셋\n",
    "valid_dataset = MNIST(download_root, transform=mnist_transform, train=False, download=True) # 검증 데이터셋\n",
    "test_dataset = MNIST(download_root, transform=mnist_transform, train=False, download=True) # 테스트 데이터셋"
   ]
  },
  {
   "cell_type": "markdown",
   "id": "fe369a21",
   "metadata": {},
   "source": [
    "## 2.2.3 모델 정의\n",
    "- 파이토치에서 모델을 정의하기 위해서는 모듈(module)을 상속한 클래스를 사용\n",
    "    - 계층(layer) : 모듈 또는 모듈을 구성하는 한 개의 계층으로 합성곱층(convolutional layer), 선형 계층(linear layer) 등\n",
    "    - 모듈(module) : 한 개 이상의 계층이 모여서 구성된 것으로, 모듈이 모여 새로운 모듈을 만들 수도 있음\n",
    "    - 모델(model) : 최종적으로 원하는 네트워크로, 한 개의 모듈이 모델이 될 수 있음"
   ]
  },
  {
   "cell_type": "markdown",
   "id": "0d82d413",
   "metadata": {},
   "source": [
    "## 2.2.4 모델의 파라미터 정의"
   ]
  },
  {
   "cell_type": "markdown",
   "id": "439e799a",
   "metadata": {},
   "source": [
    "- 손실 함수(loss function)\n",
    "    - 학습하는 동안 출력과 실제 값(정답) 사이의 오차를 측정\n",
    "    - 오차 값이 클수록 손실 함수의 값이 크고, 오차 값이 작을수록 손실 함수 값이 작아짐\n",
    "    - 손실 함수 값을 최소화하는 가중치와 바이어스를 찾는 것이 학습 목표\n",
    "    - BCELoss(이진 분류), CrossEntropyLoss(다중 클래스 분류), MSELoss(회귀)\n",
    "- 옵티마이저(optimizer)\n",
    "    - 데이터와 손실 함수를 바탕으로 모델의 업데이트 방법을 결정\n",
    "    - optimizer는 step() 메서드를 통해 전달받은 파라미터를 업데이트\n",
    "    - 모델의 파라미터별로 다른 기준(ex> 학습률)을 적용 가능\n",
    "    - torch.optim.Optimizer(params, defaults)는 모든 옵티마이저의 기본이 되는 클래스\n",
    "    - zero_grad() 메서드는 옵티마이저에 사용된 파라미터들의 기울기(gradient)를 0으로 만듬\n",
    "    - torch.optim.lr_scheduler는 에포크에 따라 학습률을 조절\n",
    "- 학습률 스케줄러(learning rate schedular)\n",
    "    - 미리 지정한 횟수의 에포크를 지날 때마다 학습률을 감소(decay)\n",
    "    - 학습 초기에는 빠른 학습을 진행하다 전역 최소점(global minimum) 근처에 다다르면 학습률을 줄여서 최적점을 찾음\n",
    "- 지표(metrics) : 훈련과 테스트 단계를 모니터링"
   ]
  },
  {
   "cell_type": "code",
   "execution_count": null,
   "id": "c97719e8",
   "metadata": {},
   "outputs": [],
   "source": [
    "from torch.optim import optimizer\n",
    "\n",
    "criterion = torch.nn.MSELoss()\n",
    "optimizer = torch.optim.SGD(model.parameters(), lr=0.01, momentum=0.9)\n",
    "scheduler = torch.optim.lr_scheduler.LambdaLR(optimzer=optimizer,\n",
    "                                             lr_lambda=lambda epoch : 0.95 ** epoch)\n",
    "\n",
    "for epoch in range(1,100+1): # 에포크 수만큼 데이터를 반복하여 처리\n",
    "    for x, y in dataloader: # 배치 크기만큼 데이터를 가져와서 학습 진행\n",
    "        optimizer.zero_grad()\n",
    "loss_fn(model(x), y).backward()\n",
    "optimizer.step()\n",
    "scheduler.step()"
   ]
  },
  {
   "cell_type": "markdown",
   "id": "dd8123c7",
   "metadata": {},
   "source": [
    "## 2.2.5 모델 훈련"
   ]
  },
  {
   "cell_type": "markdown",
   "id": "644aa5be",
   "metadata": {},
   "source": [
    "- 모델을 학습시킨다는 것은 y = wx + b라는 함수에서 적절한 w와 b를 찾는다는 의미\n",
    "- w와 b에 임의의 값을 적용하여 시작하며 오차가 줄어들어 전역 최소점에 이를 때까지 파라미터 (w,b)를 계속 수정\n",
    "- 딥러닝 학습 절차\n",
    "    - 1. 모델, 손실 함수, 옵티마이저 정의\n",
    "    - 2. 전방향 학습(입력 -> 출력 계산)\n",
    "    - 3. 손실 함수로 출력과 정답의 차이(오차) 계산\n",
    "    - 4. 역전파 학습(기울기 계산)\n",
    "    - 5. 기울기 업데이터\n",
    "- 파이토치 학습 절차\n",
    "    - 1. 모델, 손실 함수, 옵티마이저 정의\n",
    "    - 2. optimizer.zero_grad() : 전방향 학습, 기울기 초기화\n",
    "        - 기울기 값을 계산하기 위해 loss.backward() 메서드를 이용하면 새로운 기울기 값이 이전 기울기 값에 누적하여 계산됨\n",
    "        - 이는 RNN 모델을 구현할 땐 효과적이지만 누적 계산이 필요하지 않은 모델의 불필요\n",
    "        - 기울기를 구하는 과정에서의 미분 값이 누적되지 않게 초기화\n",
    "    - 3. output = model(input) : 출력 계산\n",
    "    - 4. loss = loss_fn(output, target) : 오차 계산\n",
    "    - 5. loss.backward() : 역전파 학습(기울기 자동 계산)\n",
    "    - 6. optimizer.step() : 기울기 업데이트"
   ]
  },
  {
   "cell_type": "code",
   "execution_count": null,
   "id": "d5286f1f",
   "metadata": {},
   "outputs": [],
   "source": [
    "# 모델 훈련 예시\n",
    "for epoch in range(100):\n",
    "    yhat = model(x_train)\n",
    "    loss = criterion(yhat, y_train)\n",
    "    optimizer.zero_grad()\n",
    "    loss.backward()\n",
    "    optimizer.step()"
   ]
  },
  {
   "cell_type": "markdown",
   "id": "a7a76566",
   "metadata": {},
   "source": [
    "## 2.2.6 모델 평가"
   ]
  },
  {
   "cell_type": "code",
   "execution_count": null,
   "id": "8f22cca3",
   "metadata": {},
   "outputs": [],
   "source": [
    "import torch\n",
    "import torchmetrics\n",
    "\n",
    "# 함수를 이용하여 모델 평가\n",
    "preds = torch.randn(10,5).softmax(dim=-1)\n",
    "target = torch.randint(5,(10,))\n",
    "\n",
    "acc = torchmetrics.functional.accuracy(preds, target)"
   ]
  },
  {
   "cell_type": "code",
   "execution_count": null,
   "id": "c488f599",
   "metadata": {},
   "outputs": [],
   "source": [
    "# 모듈을 이용하여 모델을 평가\n",
    "metric = torchmetrics.Accuracy() # 모델 평가(정확도) 초기화\n",
    "\n",
    "n_batches=10\n",
    "for i in range(n_batches):\n",
    "    preds = torch.randn(10,5).softmax(dim=-1)\n",
    "    target = torch.randint(5,(10,))\n",
    "    \n",
    "    acc = metric(preds, target)\n",
    "    print('Accuracy on batch {} : {}'.format(i, acc))\n",
    "    \n",
    "acc = metric.comput()\n",
    "print(\"Accuracy on all data : {}\".format(acc))"
   ]
  },
  {
   "cell_type": "markdown",
   "id": "b0c3abc3",
   "metadata": {},
   "source": [
    "## 2.2.7 훈련 과정 모니터링\n",
    "- 텐서보드를 이용하여 학습에 사용되는 각종 파라미터 값이 어떻게 변화하는지 손쉽게 시각화하여 성능을 추적하거나 평가\n",
    "- 텐서보드 사용 방법\n",
    "    - 1. 텐서보드를 설정(set up)\n",
    "    - 2. 텐서보드에 기록(write)\n",
    "    - 3. 텐서보드를 사용하여 모델 구조 확인\n",
    "- model.train() & model.eval()\n",
    "    - model.train() : 훈련 데이터셋에 사용하며 모델 훈련이 진행. 드롭아웃(dropout)이 활성화\n",
    "    - model.eval() : 모델을 평가할 때는 모든 노드를 사용하겠다는 의미로 검증과 테스트 데이터셋에 사용(dropout=False)\n",
    "        - 이 과정에선 역전파가 필요하지 않기 때문에 with torch.no_grad()를 사용해 기울기 값 저장 x -> 연산 시간 감소\n",
    "    - 이 둘을 선언해야 모델의 정확도를 높일 수 있음"
   ]
  },
  {
   "cell_type": "markdown",
   "id": "ff2ff6b6",
   "metadata": {},
   "source": [
    "# 2.4 파이토치 코드 맛보기"
   ]
  },
  {
   "cell_type": "code",
   "execution_count": 12,
   "id": "db7f5d94",
   "metadata": {},
   "outputs": [],
   "source": [
    "# 라이브러리 호출\n",
    "import torch\n",
    "import torch.nn as nn\n",
    "import numpy as np\n",
    "import pandas as pd\n",
    "import matplotlib.pyplot as plt\n",
    "import seaborn as sns\n",
    "%matplotlib inline"
   ]
  },
  {
   "cell_type": "code",
   "execution_count": 13,
   "id": "4e065aac",
   "metadata": {},
   "outputs": [
    {
     "data": {
      "text/html": [
       "<div>\n",
       "<style scoped>\n",
       "    .dataframe tbody tr th:only-of-type {\n",
       "        vertical-align: middle;\n",
       "    }\n",
       "\n",
       "    .dataframe tbody tr th {\n",
       "        vertical-align: top;\n",
       "    }\n",
       "\n",
       "    .dataframe thead th {\n",
       "        text-align: right;\n",
       "    }\n",
       "</style>\n",
       "<table border=\"1\" class=\"dataframe\">\n",
       "  <thead>\n",
       "    <tr style=\"text-align: right;\">\n",
       "      <th></th>\n",
       "      <th>price</th>\n",
       "      <th>maint</th>\n",
       "      <th>doors</th>\n",
       "      <th>persons</th>\n",
       "      <th>lug_capacity</th>\n",
       "      <th>safety</th>\n",
       "      <th>output</th>\n",
       "    </tr>\n",
       "  </thead>\n",
       "  <tbody>\n",
       "    <tr>\n",
       "      <th>0</th>\n",
       "      <td>vhigh</td>\n",
       "      <td>vhigh</td>\n",
       "      <td>2</td>\n",
       "      <td>2</td>\n",
       "      <td>small</td>\n",
       "      <td>low</td>\n",
       "      <td>unacc</td>\n",
       "    </tr>\n",
       "    <tr>\n",
       "      <th>1</th>\n",
       "      <td>vhigh</td>\n",
       "      <td>vhigh</td>\n",
       "      <td>2</td>\n",
       "      <td>2</td>\n",
       "      <td>small</td>\n",
       "      <td>med</td>\n",
       "      <td>unacc</td>\n",
       "    </tr>\n",
       "    <tr>\n",
       "      <th>2</th>\n",
       "      <td>vhigh</td>\n",
       "      <td>vhigh</td>\n",
       "      <td>2</td>\n",
       "      <td>2</td>\n",
       "      <td>small</td>\n",
       "      <td>high</td>\n",
       "      <td>unacc</td>\n",
       "    </tr>\n",
       "    <tr>\n",
       "      <th>3</th>\n",
       "      <td>vhigh</td>\n",
       "      <td>vhigh</td>\n",
       "      <td>2</td>\n",
       "      <td>2</td>\n",
       "      <td>med</td>\n",
       "      <td>low</td>\n",
       "      <td>unacc</td>\n",
       "    </tr>\n",
       "    <tr>\n",
       "      <th>4</th>\n",
       "      <td>vhigh</td>\n",
       "      <td>vhigh</td>\n",
       "      <td>2</td>\n",
       "      <td>2</td>\n",
       "      <td>med</td>\n",
       "      <td>med</td>\n",
       "      <td>unacc</td>\n",
       "    </tr>\n",
       "  </tbody>\n",
       "</table>\n",
       "</div>"
      ],
      "text/plain": [
       "   price  maint doors persons lug_capacity safety output\n",
       "0  vhigh  vhigh     2       2        small    low  unacc\n",
       "1  vhigh  vhigh     2       2        small    med  unacc\n",
       "2  vhigh  vhigh     2       2        small   high  unacc\n",
       "3  vhigh  vhigh     2       2          med    low  unacc\n",
       "4  vhigh  vhigh     2       2          med    med  unacc"
      ]
     },
     "execution_count": 13,
     "metadata": {},
     "output_type": "execute_result"
    }
   ],
   "source": [
    "dataset = pd.read_csv('car_evaluation.csv')\n",
    "dataset.head()"
   ]
  },
  {
   "cell_type": "code",
   "execution_count": 14,
   "id": "385421eb",
   "metadata": {},
   "outputs": [
    {
     "data": {
      "text/plain": [
       "<AxesSubplot:ylabel='output'>"
      ]
     },
     "execution_count": 14,
     "metadata": {},
     "output_type": "execute_result"
    },
    {
     "data": {
      "image/png": "[encoded data removed]",
      "text/plain": [
       "<Figure size 576x432 with 1 Axes>"
      ]
     },
     "metadata": {},
     "output_type": "display_data"
    }
   ],
   "source": [
    "# 데이터셋 분포\n",
    "fig_size = plt.rcParams[\"figure.figsize\"]\n",
    "fig_size[0] = 8\n",
    "fig_size[1] = 6\n",
    "plt.rcParams[\"figure.figsize\"] = fig_size\n",
    "dataset.output.value_counts().plot(kind='pie', \n",
    "                                   autopct='%0.05f%%', \n",
    "                                   colors=['lightblue', 'lightgreen', 'orange', 'pink'], \n",
    "                                   explode=(0.05, 0.05, 0.05,0.05))"
   ]
  },
  {
   "cell_type": "markdown",
   "id": "452b8114",
   "metadata": {},
   "source": [
    "- 허용 불가능한 데이터가 대부분(70%)"
   ]
  },
  {
   "cell_type": "code",
   "execution_count": 15,
   "id": "caef748e",
   "metadata": {},
   "outputs": [
    {
     "data": {
      "text/plain": [
       "array([[3, 3, 0, 0, 2, 1],\n",
       "       [3, 3, 0, 0, 2, 2],\n",
       "       [3, 3, 0, 0, 2, 0],\n",
       "       [3, 3, 0, 0, 1, 1],\n",
       "       [3, 3, 0, 0, 1, 2],\n",
       "       [3, 3, 0, 0, 1, 0],\n",
       "       [3, 3, 0, 0, 0, 1],\n",
       "       [3, 3, 0, 0, 0, 2],\n",
       "       [3, 3, 0, 0, 0, 0],\n",
       "       [3, 3, 0, 1, 2, 1]], dtype=int8)"
      ]
     },
     "execution_count": 15,
     "metadata": {},
     "output_type": "execute_result"
    }
   ],
   "source": [
    "# 데이터를 범주형 타입으로 변환\n",
    "categorical_columns = ['price', 'maint', 'doors', 'persons', 'lug_capacity', 'safety']\n",
    "\n",
    "for category in categorical_columns: # 데이터를 범주형으로 변환\n",
    "    dataset[category] = dataset[category].astype('category')\n",
    "\n",
    "# 범주형 데이터의 단어를 숫자(넘파이 배열)로 변환\n",
    "price = dataset['price'].cat.codes.values\n",
    "maint = dataset['maint'].cat.codes.values\n",
    "doors = dataset['doors'].cat.codes.values\n",
    "persons = dataset['persons'].cat.codes.values\n",
    "lug_capacity = dataset['lug_capacity'].cat.codes.values\n",
    "safety = dataset['safety'].cat.codes.values\n",
    "\n",
    "# 두 개 이상의 넘파이 객체를 합침\n",
    "categorical_data = np.stack([price, maint, doors, persons, lug_capacity, safety], 1)\n",
    "categorical_data[:10] # 합쳐진 넘파이 배열 중 10개의 행을 출력"
   ]
  },
  {
   "cell_type": "markdown",
   "id": "8dbded46",
   "metadata": {},
   "source": [
    "- 범주형 데이터를 텐서로 변환하기 위한 절차\n",
    "    - 범주형 데이터 -> category 변환 -> 넘파이 배열(numpy array) -> 텐서(Tensor)\n",
    "- 파이토치로 모델을 학습하기 위해선 텐서 형태로 변환해야 하는데, 이는 넘파이 배열을 통해 가능\n",
    "- cat.codes는 어떤 클래스가 어떤 숫자로 매핑되어 있는지 확인하기 어려움\n",
    "- np.stack은 배열들을 새로운 축으로 합쳐 줌. 따라서 두 배열의 차원이 동일해야 함\n",
    "    - ex> (2,2) 넘파이 배열 2개를 합치면 (2,2,2)\n",
    "    - np.concatenate는 (2,2) 넘파이 배열 2개를 합치면 (4,2) -> axis=0"
   ]
  },
  {
   "cell_type": "code",
   "execution_count": 19,
   "id": "b16e598c",
   "metadata": {},
   "outputs": [
    {
     "name": "stderr",
     "output_type": "stream",
     "text": [
      "C:\\Users\\tactics\\AppData\\Local\\Temp/ipykernel_1440/262467741.py:2: UserWarning: To copy construct from a tensor, it is recommended to use sourceTensor.clone().detach() or sourceTensor.clone().detach().requires_grad_(True), rather than torch.tensor(sourceTensor).\n",
      "  categorical_data = torch.tensor(categorical_data, dtype=torch.int64)\n"
     ]
    },
    {
     "data": {
      "text/plain": [
       "tensor([[3, 3, 0, 0, 2, 1],\n",
       "        [3, 3, 0, 0, 2, 2],\n",
       "        [3, 3, 0, 0, 2, 0],\n",
       "        [3, 3, 0, 0, 1, 1],\n",
       "        [3, 3, 0, 0, 1, 2],\n",
       "        [3, 3, 0, 0, 1, 0],\n",
       "        [3, 3, 0, 0, 0, 1],\n",
       "        [3, 3, 0, 0, 0, 2],\n",
       "        [3, 3, 0, 0, 0, 0],\n",
       "        [3, 3, 0, 1, 2, 1]])"
      ]
     },
     "execution_count": 19,
     "metadata": {},
     "output_type": "execute_result"
    }
   ],
   "source": [
    "# 넘파이 배열을 텐서로 변환\n",
    "categorical_data = torch.tensor(categorical_data, dtype=torch.int64)\n",
    "categorical_data[:10]"
   ]
  },
  {
   "cell_type": "code",
   "execution_count": 20,
   "id": "d628d028",
   "metadata": {},
   "outputs": [
    {
     "name": "stdout",
     "output_type": "stream",
     "text": [
      "torch.Size([1728, 6])\n",
      "torch.Size([6912])\n"
     ]
    }
   ],
   "source": [
    "# 타겟 피쳐 텐서 변환\n",
    "outputs = pd.get_dummies(dataset.output)\n",
    "outputs = outputs.values\n",
    "outputs = torch.tensor(outputs).flatten() # 1차원 텐서로 변환\n",
    "\n",
    "print(categorical_data.shape)\n",
    "print(outputs.shape)"
   ]
  },
  {
   "cell_type": "markdown",
   "id": "35047012",
   "metadata": {},
   "source": [
    "- get_dummies() : 문자를 숫자 (0,1) 즉 가변수(dummy variable)로 만들어 주는 함수"
   ]
  },
  {
   "cell_type": "code",
   "execution_count": 21,
   "id": "d02e2aca",
   "metadata": {},
   "outputs": [
    {
     "name": "stdout",
     "output_type": "stream",
     "text": [
      "[(4, 2), (4, 2), (4, 2), (3, 2), (3, 2), (3, 2)]\n"
     ]
    }
   ],
   "source": [
    "# 범주형 칼럼을 N차원으로 변환\n",
    "categorical_column_sizes = [len(dataset[column].cat.categories) for column in categorical_columns]\n",
    "categorical_embedding_sizes = [(col_size, min(50, (col_size+1)//2)) for col_size in categorical_column_sizes]\n",
    "print(categorical_embedding_sizes)"
   ]
  },
  {
   "cell_type": "markdown",
   "id": "dfe27ad8",
   "metadata": {},
   "source": [
    "- 워드 임베딩은 유사한 단어끼리 유사하게 인코딩되도록 표현하는 방법으로, 높은 차원의 임베딩일수록 단어 간의 세부적인 관계 파악 가능\n",
    "    - 단일 숫자로 변환된 넘파이 배열을 N차원으로 변경하여 사용\n",
    "- 배열을 N차원으로 변환하기 위해 먼저 모든 범주형 칼럼에 대한 임베딩 크기(벡터 차원)을 정의\n",
    "    - 정해진 규칙은 없지만, 칼럼의 고유 값 수를 2로 나누는 것을 많이 사용"
   ]
  },
  {
   "cell_type": "code",
   "execution_count": 23,
   "id": "60bb55c2",
   "metadata": {},
   "outputs": [
    {
     "name": "stdout",
     "output_type": "stream",
     "text": [
      "1383\n",
      "1383\n",
      "345\n",
      "345\n"
     ]
    }
   ],
   "source": [
    "# 데이터셋 분리\n",
    "total_records = 1728\n",
    "test_records = int(total_records * .2) # 전체 데이터의 20%만 테스트 데이터로 활용\n",
    "\n",
    "categorical_train_data = categorical_data[:total_records - test_records]\n",
    "categorical_test_data = categorical_data[total_records - test_records : total_records]\n",
    "train_outputs = outputs[:total_records - test_records]\n",
    "test_outputs = outputs[total_records - test_records : total_records]\n",
    "\n",
    "print(len(categorical_train_data))\n",
    "print(len(train_outputs))\n",
    "print(len(categorical_test_data))\n",
    "print(len(test_outputs))"
   ]
  },
  {
   "cell_type": "code",
   "execution_count": 24,
   "id": "b3154a5a",
   "metadata": {},
   "outputs": [],
   "source": [
    "# 모델의 네트워크 생성\n",
    "class Model(nn.Module):\n",
    "    def __init__(self, embedding_size, output_size, layers, p=0.4):\n",
    "        super().__init__()\n",
    "        self.all_embeddings = nn.ModuleList([nn.Embedding(ni, nf) for ni, nf in embedding_size])\n",
    "        self.embedding_dropout = nn.Dropout(p)\n",
    "        \n",
    "        all_layers = []\n",
    "        num_categorical_cols = sum((nf for ni, nf in embedding_size))\n",
    "        input_size = num_categorical_cols \n",
    "\n",
    "        for i in layers:\n",
    "            all_layers.append(nn.Linear(input_size, i))\n",
    "            all_layers.append(nn.ReLU(inplace=True))\n",
    "            all_layers.append(nn.BatchNorm1d(i))\n",
    "            all_layers.append(nn.Dropout(p))\n",
    "            input_size = i\n",
    "\n",
    "        all_layers.append(nn.Linear(layers[-1], output_size))\n",
    "        self.layers = nn.Sequential(*all_layers)\n",
    "\n",
    "    def forward(self, x_categorical):\n",
    "        embeddings = []\n",
    "        for i,e in enumerate(self.all_embeddings):\n",
    "            embeddings.append(e(x_categorical[:,i]))\n",
    "        x = torch.cat(embeddings, 1) # 넘파이의 concatenate와 같지만 대상이 텐서\n",
    "        x = self.embedding_dropout(x)\n",
    "        x = self.layers(x)\n",
    "        return x"
   ]
  },
  {
   "cell_type": "markdown",
   "id": "024aa306",
   "metadata": {},
   "source": [
    "- 클래스(class) 형태로 구현되는 모델은 nn.Module을 상속\n",
    "- init()은 모델에서 사용될 파라미터와 신경망을 초기화하기 위한 용도로 사용하며, 객체가 생성될 때 자동으로 호출\n",
    "    - self : 첫 번째 파라미터는 self로 지정. 자기 자신을 의미\n",
    "    - embedding_size : 범주형 칼럼의 임베딩 크기\n",
    "    - output_size : 출력의 크기\n",
    "    - layers : 모든 계층에 대한 목록\n",
    "    - p : 드롭아웃(기본값 0.5)\n",
    "- super().__init__()은 부모 클래스(Model 클래스)에 접근할 때 사용. super는 self를 사용 x\n",
    "- 모델의 네트워크 계층을 구축하기 위해 for 문을 이용하여 각 계층을 all_layers 목록에 추가\n",
    "    - Linear : 선형 계층(linear layer)은 입력 데이터에 선형 변환을 진행한 결과(y = Wx + b)\n",
    "        - y : 선형 계층의 출력 값, W : 가중치, x : 입력 값, b : 바이어스\n",
    "        - 선형 계층은 입력과 가중치를 곱한 후 바이어스를 더한 값\n",
    "    - ReLU : 활성화 함수\n",
    "    - BatchNorm1d : 배치 정규화(batch normalization) 용도로 사용\n",
    "        - 신경망 안에서 데이터의 평균과 분산을 조정. 일반적으로 평균이 0, 분산이 1이 되도록 정규화\n",
    "    - Dropout : 과적합 방지에 사용\n",
    "- forward() : 학습 데이터를 입력받아서 연산을 진행. 모델 객체를 데이터와 함꼐 호출하면 자동으로 실행"
   ]
  },
  {
   "cell_type": "code",
   "execution_count": 26,
   "id": "85dce2a7",
   "metadata": {},
   "outputs": [
    {
     "name": "stdout",
     "output_type": "stream",
     "text": [
      "Model(\n",
      "  (all_embeddings): ModuleList(\n",
      "    (0): Embedding(4, 2)\n",
      "    (1): Embedding(4, 2)\n",
      "    (2): Embedding(4, 2)\n",
      "    (3): Embedding(3, 2)\n",
      "    (4): Embedding(3, 2)\n",
      "    (5): Embedding(3, 2)\n",
      "  )\n",
      "  (embedding_dropout): Dropout(p=0.4, inplace=False)\n",
      "  (layers): Sequential(\n",
      "    (0): Linear(in_features=12, out_features=200, bias=True)\n",
      "    (1): ReLU(inplace=True)\n",
      "    (2): BatchNorm1d(200, eps=1e-05, momentum=0.1, affine=True, track_running_stats=True)\n",
      "    (3): Dropout(p=0.4, inplace=False)\n",
      "    (4): Linear(in_features=200, out_features=100, bias=True)\n",
      "    (5): ReLU(inplace=True)\n",
      "    (6): BatchNorm1d(100, eps=1e-05, momentum=0.1, affine=True, track_running_stats=True)\n",
      "    (7): Dropout(p=0.4, inplace=False)\n",
      "    (8): Linear(in_features=100, out_features=50, bias=True)\n",
      "    (9): ReLU(inplace=True)\n",
      "    (10): BatchNorm1d(50, eps=1e-05, momentum=0.1, affine=True, track_running_stats=True)\n",
      "    (11): Dropout(p=0.4, inplace=False)\n",
      "    (12): Linear(in_features=50, out_features=4, bias=True)\n",
      "  )\n",
      ")\n"
     ]
    }
   ],
   "source": [
    "# Model 클래스의 객체 생성\n",
    "model = Model(categorical_embedding_sizes, 4, [200,100,50], p=0.4)\n",
    "print(model)"
   ]
  },
  {
   "cell_type": "code",
   "execution_count": 28,
   "id": "dfecd129",
   "metadata": {},
   "outputs": [],
   "source": [
    "# 모델의 파라미터 정의\n",
    "loss_function = nn.CrossEntropyLoss()\n",
    "optimizer = torch.optim.Adam(model.parameters(), lr=0.001)"
   ]
  },
  {
   "cell_type": "code",
   "execution_count": 35,
   "id": "dc48da9e",
   "metadata": {},
   "outputs": [],
   "source": [
    "# CPU/GPU 사용 지정\n",
    "if torch.cuda.is_available():\n",
    "    device = torch.device('cuda')\n",
    "else:\n",
    "    device = torch.device('cpu')"
   ]
  },
  {
   "cell_type": "code",
   "execution_count": 38,
   "id": "fbbcac72",
   "metadata": {},
   "outputs": [
    {
     "name": "stdout",
     "output_type": "stream",
     "text": [
      "epoch:   1 loss : 1.52741945\n",
      "epoch:  26 loss : 1.32650769\n",
      "epoch:  51 loss : 1.24943876\n",
      "epoch:  76 loss : 1.15718710\n",
      "epoch: 101 loss : 1.03131664\n",
      "epoch: 126 loss : 0.92791313\n",
      "epoch: 151 loss : 0.79866332\n",
      "epoch: 176 loss : 0.74244434\n",
      "epoch: 201 loss : 0.68144894\n",
      "epoch: 226 loss : 0.64707524\n",
      "epoch: 251 loss : 0.62740403\n",
      "epoch: 276 loss : 0.61667812\n",
      "epoch: 301 loss : 0.60256380\n",
      "epoch: 326 loss : 0.58737302\n",
      "epoch: 351 loss : 0.58476651\n",
      "epoch: 376 loss : 0.58816105\n",
      "epoch: 401 loss : 0.57891464\n",
      "epoch: 426 loss : 0.57420576\n",
      "epoch: 451 loss : 0.57268906\n",
      "epoch: 476 loss : 0.56818658\n",
      "epoch: 500 loss: 0.5702716708\n"
     ]
    }
   ],
   "source": [
    "# 모델 학습\n",
    "epochs = 500\n",
    "aggregated_losses = []\n",
    "train_outputs = train_outputs.to(device=device, dtype=torch.int64)\n",
    "\n",
    "for i in range(epochs):\n",
    "    i += 1\n",
    "    y_pred = model(categorical_train_data).cuda()\n",
    "    single_loss = loss_function(y_pred, train_outputs)\n",
    "    aggregated_losses.append(single_loss) # 반복할 때마다 오차를 aggregated_losses에 추가\n",
    "    \n",
    "    if i % 25 == 1:\n",
    "        print(f'epoch: {i:3} loss : {single_loss.item():10.8f}')\n",
    "    \n",
    "    optimizer.zero_grad()\n",
    "    single_loss.backward() # 가중치를 업데이트하기 위해 손실 함수의 backward() 메서드 호출\n",
    "    optimizer.step() # 옵티마이저 함수의 step() 메서드를 이용해 기울기 업데이트\n",
    "    \n",
    "print(f'epoch: {i:3} loss: {single_loss.item():10.10f}')"
   ]
  },
  {
   "cell_type": "markdown",
   "id": "c7976304",
   "metadata": {},
   "source": [
    "- 25 에포크마다 출력된 오차 정보 추출"
   ]
  },
  {
   "cell_type": "code",
   "execution_count": 40,
   "id": "831bd05c",
   "metadata": {},
   "outputs": [
    {
     "name": "stdout",
     "output_type": "stream",
     "text": [
      "Loss: 0.55804962\n"
     ]
    }
   ],
   "source": [
    "# 테스트 데이터셋으로 모델 예측\n",
    "test_outputs = test_outputs.to(device=device, dtype=torch.int64)\n",
    "with torch.no_grad():\n",
    "    y_val = model(categorical_test_data).cuda()\n",
    "    loss = loss_function(y_val, test_outputs)\n",
    "print(f'Loss: {loss:.8f}')"
   ]
  },
  {
   "cell_type": "markdown",
   "id": "a3d99774",
   "metadata": {},
   "source": [
    "- 훈련 데이터셋에서 도출된 손실 값과 비슷하므로 과적합은 발생하지 않았다고 판단 가능"
   ]
  },
  {
   "cell_type": "code",
   "execution_count": 41,
   "id": "f7059f01",
   "metadata": {},
   "outputs": [
    {
     "name": "stdout",
     "output_type": "stream",
     "text": [
      "tensor([[ 3.3786,  1.8727, -4.1513, -4.0648],\n",
      "        [ 3.9461,  2.3306, -5.4539, -5.2170],\n",
      "        [ 5.6013,  4.2029, -8.0732, -7.8284],\n",
      "        [ 3.0972,  1.7590, -3.6641, -3.7088],\n",
      "        [ 1.1371,  0.6732, -1.5635, -1.5018]], device='cuda:0')\n"
     ]
    }
   ],
   "source": [
    "# 모델의 예측 확인\n",
    "print(y_val[:5])"
   ]
  },
  {
   "cell_type": "markdown",
   "id": "dade6c14",
   "metadata": {},
   "source": [
    "- 모델 네트워크의 output_size=4이므로 출력층에 4개의 뉴런이 포함되어 출력\n",
    "- 실제 출력이 0이면 인덱스 0(ex>3.3786)의 값이 인덱스 1(ex>1.8727)의 값보다 높아야 함"
   ]
  },
  {
   "cell_type": "code",
   "execution_count": 43,
   "id": "9718816c",
   "metadata": {},
   "outputs": [
    {
     "name": "stdout",
     "output_type": "stream",
     "text": [
      "tensor([0, 0, 0, 0, 0])\n"
     ]
    }
   ],
   "source": [
    "# 가장 큰 값을 갖는 인덱스 확인\n",
    "y_val = y_val.cpu()\n",
    "y_val = np.argmax(y_val, axis=1)\n",
    "print(y_val[:5])"
   ]
  },
  {
   "cell_type": "markdown",
   "id": "6f6a6204",
   "metadata": {},
   "source": [
    "- 인덱스가 0인 값이 인덱스가 1인 값보다 크므로 처리된 출력이 0임을 확인"
   ]
  },
  {
   "cell_type": "code",
   "execution_count": 46,
   "id": "c22924ba",
   "metadata": {},
   "outputs": [
    {
     "name": "stdout",
     "output_type": "stream",
     "text": [
      "[[258   1]\n",
      " [ 85   1]]\n",
      "              precision    recall  f1-score   support\n",
      "\n",
      "           0       0.75      1.00      0.86       259\n",
      "           1       0.50      0.01      0.02        86\n",
      "\n",
      "    accuracy                           0.75       345\n",
      "   macro avg       0.63      0.50      0.44       345\n",
      "weighted avg       0.69      0.75      0.65       345\n",
      "\n",
      "0.7507246376811594\n"
     ]
    }
   ],
   "source": [
    "from sklearn.metrics import classification_report, confusion_matrix, accuracy_score\n",
    "\n",
    "# 테스트 데이터셋을 이용한 정확도 확인\n",
    "y_val = y_val.cpu()\n",
    "test_outputs = test_outputs.cpu()\n",
    "\n",
    "print(confusion_matrix(test_outputs, y_val))\n",
    "print(classification_report(test_outputs, y_val))\n",
    "print(accuracy_score(test_outputs, y_val))"
   ]
  }
 ],
 "metadata": {
  "kernelspec": {
   "display_name": "Python 3 (ipykernel)",
   "language": "python",
   "name": "python3"
  },
  "language_info": {
   "codemirror_mode": {
    "name": "ipython",
    "version": 3
   },
   "file_extension": ".py",
   "mimetype": "text/x-python",
   "name": "python",
   "nbconvert_exporter": "python",
   "pygments_lexer": "ipython3",
   "version": "3.9.7"
  }
 },
 "nbformat": 4,
 "nbformat_minor": 5
}
